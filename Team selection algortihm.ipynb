{
 "cells": [
  {
   "cell_type": "markdown",
   "id": "577f7db6",
   "metadata": {},
   "source": [
    "# TASK: \n",
    "# Design an algorithm to select the best team for the Champions League Final: Man City vs. Inter Milan on June 10th. Consider player performance, team strategies, and past records."
   ]
  },
  {
   "cell_type": "markdown",
   "id": "4f2e22e2",
   "metadata": {},
   "source": [
    "- i here by state that the following task was done solely by me"
   ]
  },
  {
   "cell_type": "code",
   "execution_count": 1,
   "id": "de801d76",
   "metadata": {},
   "outputs": [
    {
     "name": "stdout",
     "output_type": "stream",
     "text": [
      "The best team for the Champions League Final is: Inter Milan\n"
     ]
    }
   ],
   "source": [
    "import random\n",
    "\n",
    "\n",
    "man_city_players = [\"Player A\", \"Player B\", \"Player C\", \"Player D\", \"Player E\"]\n",
    "inter_milan_players = [\"Player F\", \"Player G\", \"Player H\", \"Player I\", \"Player J\"]\n",
    "\n",
    "# assuming some player performance scores \n",
    "player_performance_scores = {\n",
    "    \"Player A\": 0.8,\n",
    "    \"Player B\": 0.9,\n",
    "    \"Player C\": 0.7,\n",
    "    \"Player D\": 0.85,\n",
    "    \"Player E\": 0.75,\n",
    "    \"Player F\": 0.85,\n",
    "    \"Player G\": 0.9,\n",
    "    \"Player H\": 0.8,\n",
    "    \"Player I\": 0.75,\n",
    "    \"Player J\": 0.85,\n",
    "}\n",
    "\n",
    "#  team strategies scores \n",
    "team_strategies_scores = {\n",
    "    \"Man City\": 0.9,\n",
    "    \"Inter Milan\": 0.85,\n",
    "}\n",
    "\n",
    "# past records scores\n",
    "past_records_scores = {\n",
    "    \"Man City\": 0.8,\n",
    "    \"Inter Milan\": 0.75,\n",
    "}\n",
    "\n",
    "def calculate_player_performance_score(player):\n",
    "    return player_performance_scores[player]\n",
    "\n",
    "def calculate_team_score(team):\n",
    "    return (\n",
    "        team_strategies_scores[team] * 0.4\n",
    "        + past_records_scores[team] * 0.3\n",
    "        + sum(calculate_player_performance_score(player) for player in globals()[f\"{team.lower().replace(' ', '_')}_players\"]) * 0.3\n",
    "    )\n",
    "\n",
    "def select_best_team():\n",
    "    man_city_score = calculate_team_score(\"Man City\")\n",
    "    inter_milan_score = calculate_team_score(\"Inter Milan\")\n",
    "\n",
    "    if man_city_score > inter_milan_score:\n",
    "        return \"Man City\"\n",
    "    elif inter_milan_score > man_city_score:\n",
    "        return \"Inter Milan\"\n",
    "    else:\n",
    "        # If the scores are equal, randomly select a team\n",
    "        return random.choice([\"Man City\", \"Inter Milan\"])\n",
    "\n",
    "# Main function\n",
    "def main():\n",
    "    best_team = select_best_team()\n",
    "    print(f\"The best team for the Champions League Final is: {best_team}\")\n",
    "\n",
    "# Run the algorithm\n",
    "main()"
   ]
  },
  {
   "cell_type": "code",
   "execution_count": null,
   "id": "88d1000b",
   "metadata": {},
   "outputs": [],
   "source": []
  }
 ],
 "metadata": {
  "kernelspec": {
   "display_name": "Python 3 (ipykernel)",
   "language": "python",
   "name": "python3"
  },
  "language_info": {
   "codemirror_mode": {
    "name": "ipython",
    "version": 3
   },
   "file_extension": ".py",
   "mimetype": "text/x-python",
   "name": "python",
   "nbconvert_exporter": "python",
   "pygments_lexer": "ipython3",
   "version": "3.9.7"
  }
 },
 "nbformat": 4,
 "nbformat_minor": 5
}
